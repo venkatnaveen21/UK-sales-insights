{
 "cells": [
  {
   "cell_type": "code",
   "execution_count": 3,
   "id": "d12a6ddf-712b-4dcd-b5d4-15a649c68e7f",
   "metadata": {},
   "outputs": [
    {
     "name": "stdout",
     "output_type": "stream",
     "text": [
      "Requirement already satisfied: mysql-connector-python in c:\\users\\venkat naveen\\anaconda3\\lib\\site-packages (9.2.0)\n",
      "Requirement already satisfied: pandas in c:\\users\\venkat naveen\\anaconda3\\lib\\site-packages (2.2.2)\n",
      "Requirement already satisfied: numpy>=1.23.2 in c:\\users\\venkat naveen\\anaconda3\\lib\\site-packages (from pandas) (1.26.4)\n",
      "Requirement already satisfied: python-dateutil>=2.8.2 in c:\\users\\venkat naveen\\appdata\\roaming\\python\\python311\\site-packages (from pandas) (2.9.0.post0)\n",
      "Requirement already satisfied: pytz>=2020.1 in c:\\users\\venkat naveen\\anaconda3\\lib\\site-packages (from pandas) (2024.1)\n",
      "Requirement already satisfied: tzdata>=2022.7 in c:\\users\\venkat naveen\\anaconda3\\lib\\site-packages (from pandas) (2023.3)\n",
      "Requirement already satisfied: six>=1.5 in c:\\users\\venkat naveen\\appdata\\roaming\\python\\python311\\site-packages (from python-dateutil>=2.8.2->pandas) (1.16.0)\n",
      "Note: you may need to restart the kernel to use updated packages.\n"
     ]
    },
    {
     "name": "stderr",
     "output_type": "stream",
     "text": [
      "WARNING: There was an error checking the latest version of pip.\n"
     ]
    }
   ],
   "source": [
    "pip install mysql-connector-python pandas"
   ]
  },
  {
   "cell_type": "code",
   "execution_count": 4,
   "id": "c29aeac8-cfd3-4f2c-b2b8-702d204ada3c",
   "metadata": {},
   "outputs": [
    {
     "name": "stdout",
     "output_type": "stream",
     "text": [
      "Requirement already satisfied: chardet in c:\\users\\venkat naveen\\anaconda3\\lib\\site-packages (4.0.0)\n",
      "Note: you may need to restart the kernel to use updated packages.\n"
     ]
    },
    {
     "name": "stderr",
     "output_type": "stream",
     "text": [
      "WARNING: There was an error checking the latest version of pip.\n"
     ]
    }
   ],
   "source": [
    "pip install chardet\n"
   ]
  },
  {
   "cell_type": "code",
   "execution_count": 5,
   "id": "315c7c69-2f4e-497c-9254-4288fde6d875",
   "metadata": {},
   "outputs": [],
   "source": [
    "import pandas as pd\n",
    "import numpy as np"
   ]
  },
  {
   "cell_type": "code",
   "execution_count": 6,
   "id": "50afb604-d3e3-4ef1-bd83-b7fc8e77085c",
   "metadata": {},
   "outputs": [
    {
     "name": "stdout",
     "output_type": "stream",
     "text": [
      "Detected encoding: ascii\n"
     ]
    }
   ],
   "source": [
    "import chardet\n",
    "\n",
    "# Detect file encoding\n",
    "with open(\"uk_sales_data.csv\", \"rb\") as f:\n",
    "    result = chardet.detect(f.read(100000))\n",
    "\n",
    "print(\"Detected encoding:\", result['encoding'])"
   ]
  },
  {
   "cell_type": "code",
   "execution_count": 7,
   "id": "1b31c582-27ef-49ef-b38a-ddcca1dd35a8",
   "metadata": {},
   "outputs": [],
   "source": [
    "import pandas as pd\n",
    "\n",
    "# Replace 'ISO-8859-1' with the detected encoding if different\n",
    "df = pd.read_csv(\"uk_sales_data.csv\", encoding=\"ISO-8859-1\")\n"
   ]
  },
  {
   "cell_type": "code",
   "execution_count": 8,
   "id": "f4ef3357-b21c-4601-a072-acdc96722f39",
   "metadata": {},
   "outputs": [
    {
     "data": {
      "text/html": [
       "<div>\n",
       "<style scoped>\n",
       "    .dataframe tbody tr th:only-of-type {\n",
       "        vertical-align: middle;\n",
       "    }\n",
       "\n",
       "    .dataframe tbody tr th {\n",
       "        vertical-align: top;\n",
       "    }\n",
       "\n",
       "    .dataframe thead th {\n",
       "        text-align: right;\n",
       "    }\n",
       "</style>\n",
       "<table border=\"1\" class=\"dataframe\">\n",
       "  <thead>\n",
       "    <tr style=\"text-align: right;\">\n",
       "      <th></th>\n",
       "      <th>InvoiceNo</th>\n",
       "      <th>StockCode</th>\n",
       "      <th>Description</th>\n",
       "      <th>Quantity</th>\n",
       "      <th>InvoiceDate</th>\n",
       "      <th>UnitPrice</th>\n",
       "      <th>CustomerID</th>\n",
       "      <th>Country</th>\n",
       "    </tr>\n",
       "  </thead>\n",
       "  <tbody>\n",
       "    <tr>\n",
       "      <th>0</th>\n",
       "      <td>536365</td>\n",
       "      <td>85123A</td>\n",
       "      <td>WHITE HANGING HEART T-LIGHT HOLDER</td>\n",
       "      <td>6</td>\n",
       "      <td>12-01-2010 08:26</td>\n",
       "      <td>2.55</td>\n",
       "      <td>17850.0</td>\n",
       "      <td>United Kingdom</td>\n",
       "    </tr>\n",
       "    <tr>\n",
       "      <th>1</th>\n",
       "      <td>536365</td>\n",
       "      <td>71053</td>\n",
       "      <td>WHITE METAL LANTERN</td>\n",
       "      <td>6</td>\n",
       "      <td>12-01-2010 08:26</td>\n",
       "      <td>3.39</td>\n",
       "      <td>17850.0</td>\n",
       "      <td>United Kingdom</td>\n",
       "    </tr>\n",
       "    <tr>\n",
       "      <th>2</th>\n",
       "      <td>536365</td>\n",
       "      <td>84406B</td>\n",
       "      <td>CREAM CUPID HEARTS COAT HANGER</td>\n",
       "      <td>8</td>\n",
       "      <td>12-01-2010 08:26</td>\n",
       "      <td>2.75</td>\n",
       "      <td>17850.0</td>\n",
       "      <td>United Kingdom</td>\n",
       "    </tr>\n",
       "    <tr>\n",
       "      <th>3</th>\n",
       "      <td>536365</td>\n",
       "      <td>84029G</td>\n",
       "      <td>KNITTED UNION FLAG HOT WATER BOTTLE</td>\n",
       "      <td>6</td>\n",
       "      <td>12-01-2010 08:26</td>\n",
       "      <td>3.39</td>\n",
       "      <td>17850.0</td>\n",
       "      <td>United Kingdom</td>\n",
       "    </tr>\n",
       "    <tr>\n",
       "      <th>4</th>\n",
       "      <td>536365</td>\n",
       "      <td>84029E</td>\n",
       "      <td>RED WOOLLY HOTTIE WHITE HEART.</td>\n",
       "      <td>6</td>\n",
       "      <td>12-01-2010 08:26</td>\n",
       "      <td>3.39</td>\n",
       "      <td>17850.0</td>\n",
       "      <td>United Kingdom</td>\n",
       "    </tr>\n",
       "  </tbody>\n",
       "</table>\n",
       "</div>"
      ],
      "text/plain": [
       "  InvoiceNo StockCode                          Description  Quantity  \\\n",
       "0    536365    85123A   WHITE HANGING HEART T-LIGHT HOLDER         6   \n",
       "1    536365     71053                  WHITE METAL LANTERN         6   \n",
       "2    536365    84406B       CREAM CUPID HEARTS COAT HANGER         8   \n",
       "3    536365    84029G  KNITTED UNION FLAG HOT WATER BOTTLE         6   \n",
       "4    536365    84029E       RED WOOLLY HOTTIE WHITE HEART.         6   \n",
       "\n",
       "        InvoiceDate  UnitPrice  CustomerID         Country  \n",
       "0  12-01-2010 08:26       2.55     17850.0  United Kingdom  \n",
       "1  12-01-2010 08:26       3.39     17850.0  United Kingdom  \n",
       "2  12-01-2010 08:26       2.75     17850.0  United Kingdom  \n",
       "3  12-01-2010 08:26       3.39     17850.0  United Kingdom  \n",
       "4  12-01-2010 08:26       3.39     17850.0  United Kingdom  "
      ]
     },
     "execution_count": 8,
     "metadata": {},
     "output_type": "execute_result"
    }
   ],
   "source": [
    "df.columns\n",
    "df.head()"
   ]
  },
  {
   "cell_type": "code",
   "execution_count": 9,
   "id": "83bfd361-8521-4106-b8c4-2a4fc4ce62fc",
   "metadata": {},
   "outputs": [
    {
     "name": "stdout",
     "output_type": "stream",
     "text": [
      "<class 'pandas.core.frame.DataFrame'>\n",
      "RangeIndex: 541909 entries, 0 to 541908\n",
      "Data columns (total 8 columns):\n",
      " #   Column       Non-Null Count   Dtype  \n",
      "---  ------       --------------   -----  \n",
      " 0   InvoiceNo    541909 non-null  object \n",
      " 1   StockCode    541909 non-null  object \n",
      " 2   Description  540455 non-null  object \n",
      " 3   Quantity     541909 non-null  int64  \n",
      " 4   InvoiceDate  541909 non-null  object \n",
      " 5   UnitPrice    541909 non-null  float64\n",
      " 6   CustomerID   406829 non-null  float64\n",
      " 7   Country      541909 non-null  object \n",
      "dtypes: float64(2), int64(1), object(5)\n",
      "memory usage: 33.1+ MB\n",
      "InvoiceNo           0\n",
      "StockCode           0\n",
      "Description      1454\n",
      "Quantity            0\n",
      "InvoiceDate         0\n",
      "UnitPrice           0\n",
      "CustomerID     135080\n",
      "Country             0\n",
      "dtype: int64\n"
     ]
    }
   ],
   "source": [
    "# Check basic info\n",
    "df.info()\n",
    "\n",
    "# Check for missing values\n",
    "print(df.isnull().sum())\n"
   ]
  },
  {
   "cell_type": "markdown",
   "id": "c362d812-9707-47e0-8545-b2194d5f693b",
   "metadata": {},
   "source": [
    "Data Cleaning"
   ]
  },
  {
   "cell_type": "code",
   "execution_count": 11,
   "id": "ed8fb9a2-a60f-491d-b703-845af50d7137",
   "metadata": {},
   "outputs": [],
   "source": [
    "# Description (1,454 missing values):filling them with \"Unknown\"\n",
    "df[\"Description\"] = df[\"Description\"].fillna(\"Unknown\")"
   ]
  },
  {
   "cell_type": "code",
   "execution_count": 12,
   "id": "90d11faa-542f-4cac-b26f-ac729aaba8e0",
   "metadata": {},
   "outputs": [],
   "source": [
    "# CustomerID (135,080 missing values): Since this is a large portion of the data (~25%), filling them with guest:\n",
    "df[\"CustomerID\"] = df[\"CustomerID\"].fillna(\"Guest\")"
   ]
  },
  {
   "cell_type": "code",
   "execution_count": 13,
   "id": "4be163e6-efff-4f82-90b7-30fcce31d4d6",
   "metadata": {},
   "outputs": [],
   "source": [
    "#Cleaning invoice before conversion:\n",
    "df[\"InvoiceDate\"] = df[\"InvoiceDate\"].str.replace(\"/\", \"-\", regex=True).str.strip()\n",
    "df[\"InvoiceDate\"] = pd.to_datetime(df[\"InvoiceDate\"], errors=\"coerce\")\n"
   ]
  },
  {
   "cell_type": "code",
   "execution_count": 14,
   "id": "9fe4f17f-50dd-41cf-8393-8c009a8d5ea6",
   "metadata": {},
   "outputs": [],
   "source": [
    "# Converting invoice date to datetimeformat\n",
    "df[\"InvoiceDate\"] = pd.to_datetime(df[\"InvoiceDate\"], format=\"%m/%d/%Y %H:%M\")"
   ]
  },
  {
   "cell_type": "code",
   "execution_count": 15,
   "id": "66c80fad-27a4-44ff-a29f-9511fc72144d",
   "metadata": {},
   "outputs": [
    {
     "name": "stdout",
     "output_type": "stream",
     "text": [
      "0 rows could not be converted.\n"
     ]
    },
    {
     "data": {
      "text/html": [
       "<div>\n",
       "<style scoped>\n",
       "    .dataframe tbody tr th:only-of-type {\n",
       "        vertical-align: middle;\n",
       "    }\n",
       "\n",
       "    .dataframe tbody tr th {\n",
       "        vertical-align: top;\n",
       "    }\n",
       "\n",
       "    .dataframe thead th {\n",
       "        text-align: right;\n",
       "    }\n",
       "</style>\n",
       "<table border=\"1\" class=\"dataframe\">\n",
       "  <thead>\n",
       "    <tr style=\"text-align: right;\">\n",
       "      <th></th>\n",
       "      <th>InvoiceNo</th>\n",
       "      <th>StockCode</th>\n",
       "      <th>Description</th>\n",
       "      <th>Quantity</th>\n",
       "      <th>InvoiceDate</th>\n",
       "      <th>UnitPrice</th>\n",
       "      <th>CustomerID</th>\n",
       "      <th>Country</th>\n",
       "    </tr>\n",
       "  </thead>\n",
       "  <tbody>\n",
       "  </tbody>\n",
       "</table>\n",
       "</div>"
      ],
      "text/plain": [
       "Empty DataFrame\n",
       "Columns: [InvoiceNo, StockCode, Description, Quantity, InvoiceDate, UnitPrice, CustomerID, Country]\n",
       "Index: []"
      ]
     },
     "execution_count": 15,
     "metadata": {},
     "output_type": "execute_result"
    }
   ],
   "source": [
    "#Checking\n",
    "print(df[\"InvoiceDate\"].isna().sum(), \"rows could not be converted.\")\n",
    "df[df[\"InvoiceDate\"].isna()].head()  # View problematic rows\n"
   ]
  },
  {
   "cell_type": "code",
   "execution_count": 16,
   "id": "cfe1ece0-8136-4a1c-a3bb-c09fc74c412d",
   "metadata": {},
   "outputs": [],
   "source": [
    "# Removing negative vales for quantity and unit price\n",
    "df = df[df[\"Quantity\"] > 0]\n",
    "df = df[df[\"UnitPrice\"] > 0]\n"
   ]
  },
  {
   "cell_type": "code",
   "execution_count": 17,
   "id": "9b3af0d6-afdc-43da-8c2b-27b8313629ce",
   "metadata": {},
   "outputs": [],
   "source": [
    "# Removing duplicates\n",
    "df.drop_duplicates(inplace=True)"
   ]
  },
  {
   "cell_type": "code",
   "execution_count": 18,
   "id": "1d358c86-2ba6-4480-89d4-a6bc74521d63",
   "metadata": {},
   "outputs": [],
   "source": [
    "# Standardize text columns\n",
    "\n",
    "df[\"Description\"] = df[\"Description\"].str.strip().str.lower()\n",
    "df[\"Country\"] = df[\"Country\"].str.strip().str.title()\n"
   ]
  },
  {
   "cell_type": "markdown",
   "id": "d0dd0b98-35ec-41b7-81d2-bc91d2232a36",
   "metadata": {},
   "source": [
    "Feature Engineering"
   ]
  },
  {
   "cell_type": "code",
   "execution_count": 20,
   "id": "ae74052a-1c2f-4192-b2e9-e3a4576bf2ff",
   "metadata": {},
   "outputs": [],
   "source": [
    "#Total price per transaction:\n",
    "\n",
    "df[\"TotalPrice\"] = df[\"Quantity\"] * df[\"UnitPrice\"]"
   ]
  },
  {
   "cell_type": "code",
   "execution_count": 21,
   "id": "326a5ca8-0db5-4c45-8126-47490bc27a28",
   "metadata": {},
   "outputs": [],
   "source": [
    "#Extract date components:\n",
    "\n",
    "df[\"Year\"] = df[\"InvoiceDate\"].dt.year\n",
    "df[\"Month\"] = df[\"InvoiceDate\"].dt.month\n",
    "df[\"DayOfWeek\"] = df[\"InvoiceDate\"].dt.day_name()"
   ]
  },
  {
   "cell_type": "code",
   "execution_count": 22,
   "id": "32478284-3edc-47eb-8795-c98041ab9f34",
   "metadata": {},
   "outputs": [
    {
     "name": "stdout",
     "output_type": "stream",
     "text": [
      "<class 'pandas.core.frame.DataFrame'>\n",
      "Index: 524878 entries, 0 to 541908\n",
      "Data columns (total 12 columns):\n",
      " #   Column       Non-Null Count   Dtype         \n",
      "---  ------       --------------   -----         \n",
      " 0   InvoiceNo    524878 non-null  object        \n",
      " 1   StockCode    524878 non-null  object        \n",
      " 2   Description  524878 non-null  object        \n",
      " 3   Quantity     524878 non-null  int64         \n",
      " 4   InvoiceDate  524878 non-null  datetime64[ns]\n",
      " 5   UnitPrice    524878 non-null  float64       \n",
      " 6   CustomerID   524878 non-null  object        \n",
      " 7   Country      524878 non-null  object        \n",
      " 8   TotalPrice   524878 non-null  float64       \n",
      " 9   Year         524878 non-null  int32         \n",
      " 10  Month        524878 non-null  int32         \n",
      " 11  DayOfWeek    524878 non-null  object        \n",
      "dtypes: datetime64[ns](1), float64(2), int32(2), int64(1), object(6)\n",
      "memory usage: 48.1+ MB\n"
     ]
    },
    {
     "data": {
      "text/html": [
       "<div>\n",
       "<style scoped>\n",
       "    .dataframe tbody tr th:only-of-type {\n",
       "        vertical-align: middle;\n",
       "    }\n",
       "\n",
       "    .dataframe tbody tr th {\n",
       "        vertical-align: top;\n",
       "    }\n",
       "\n",
       "    .dataframe thead th {\n",
       "        text-align: right;\n",
       "    }\n",
       "</style>\n",
       "<table border=\"1\" class=\"dataframe\">\n",
       "  <thead>\n",
       "    <tr style=\"text-align: right;\">\n",
       "      <th></th>\n",
       "      <th>InvoiceNo</th>\n",
       "      <th>StockCode</th>\n",
       "      <th>Description</th>\n",
       "      <th>Quantity</th>\n",
       "      <th>InvoiceDate</th>\n",
       "      <th>UnitPrice</th>\n",
       "      <th>CustomerID</th>\n",
       "      <th>Country</th>\n",
       "      <th>TotalPrice</th>\n",
       "      <th>Year</th>\n",
       "      <th>Month</th>\n",
       "      <th>DayOfWeek</th>\n",
       "    </tr>\n",
       "  </thead>\n",
       "  <tbody>\n",
       "    <tr>\n",
       "      <th>0</th>\n",
       "      <td>536365</td>\n",
       "      <td>85123A</td>\n",
       "      <td>white hanging heart t-light holder</td>\n",
       "      <td>6</td>\n",
       "      <td>2010-12-01 08:26:00</td>\n",
       "      <td>2.55</td>\n",
       "      <td>17850.0</td>\n",
       "      <td>United Kingdom</td>\n",
       "      <td>15.30</td>\n",
       "      <td>2010</td>\n",
       "      <td>12</td>\n",
       "      <td>Wednesday</td>\n",
       "    </tr>\n",
       "    <tr>\n",
       "      <th>1</th>\n",
       "      <td>536365</td>\n",
       "      <td>71053</td>\n",
       "      <td>white metal lantern</td>\n",
       "      <td>6</td>\n",
       "      <td>2010-12-01 08:26:00</td>\n",
       "      <td>3.39</td>\n",
       "      <td>17850.0</td>\n",
       "      <td>United Kingdom</td>\n",
       "      <td>20.34</td>\n",
       "      <td>2010</td>\n",
       "      <td>12</td>\n",
       "      <td>Wednesday</td>\n",
       "    </tr>\n",
       "    <tr>\n",
       "      <th>2</th>\n",
       "      <td>536365</td>\n",
       "      <td>84406B</td>\n",
       "      <td>cream cupid hearts coat hanger</td>\n",
       "      <td>8</td>\n",
       "      <td>2010-12-01 08:26:00</td>\n",
       "      <td>2.75</td>\n",
       "      <td>17850.0</td>\n",
       "      <td>United Kingdom</td>\n",
       "      <td>22.00</td>\n",
       "      <td>2010</td>\n",
       "      <td>12</td>\n",
       "      <td>Wednesday</td>\n",
       "    </tr>\n",
       "    <tr>\n",
       "      <th>3</th>\n",
       "      <td>536365</td>\n",
       "      <td>84029G</td>\n",
       "      <td>knitted union flag hot water bottle</td>\n",
       "      <td>6</td>\n",
       "      <td>2010-12-01 08:26:00</td>\n",
       "      <td>3.39</td>\n",
       "      <td>17850.0</td>\n",
       "      <td>United Kingdom</td>\n",
       "      <td>20.34</td>\n",
       "      <td>2010</td>\n",
       "      <td>12</td>\n",
       "      <td>Wednesday</td>\n",
       "    </tr>\n",
       "    <tr>\n",
       "      <th>4</th>\n",
       "      <td>536365</td>\n",
       "      <td>84029E</td>\n",
       "      <td>red woolly hottie white heart.</td>\n",
       "      <td>6</td>\n",
       "      <td>2010-12-01 08:26:00</td>\n",
       "      <td>3.39</td>\n",
       "      <td>17850.0</td>\n",
       "      <td>United Kingdom</td>\n",
       "      <td>20.34</td>\n",
       "      <td>2010</td>\n",
       "      <td>12</td>\n",
       "      <td>Wednesday</td>\n",
       "    </tr>\n",
       "  </tbody>\n",
       "</table>\n",
       "</div>"
      ],
      "text/plain": [
       "  InvoiceNo StockCode                          Description  Quantity  \\\n",
       "0    536365    85123A   white hanging heart t-light holder         6   \n",
       "1    536365     71053                  white metal lantern         6   \n",
       "2    536365    84406B       cream cupid hearts coat hanger         8   \n",
       "3    536365    84029G  knitted union flag hot water bottle         6   \n",
       "4    536365    84029E       red woolly hottie white heart.         6   \n",
       "\n",
       "          InvoiceDate  UnitPrice CustomerID         Country  TotalPrice  Year  \\\n",
       "0 2010-12-01 08:26:00       2.55    17850.0  United Kingdom       15.30  2010   \n",
       "1 2010-12-01 08:26:00       3.39    17850.0  United Kingdom       20.34  2010   \n",
       "2 2010-12-01 08:26:00       2.75    17850.0  United Kingdom       22.00  2010   \n",
       "3 2010-12-01 08:26:00       3.39    17850.0  United Kingdom       20.34  2010   \n",
       "4 2010-12-01 08:26:00       3.39    17850.0  United Kingdom       20.34  2010   \n",
       "\n",
       "   Month  DayOfWeek  \n",
       "0     12  Wednesday  \n",
       "1     12  Wednesday  \n",
       "2     12  Wednesday  \n",
       "3     12  Wednesday  \n",
       "4     12  Wednesday  "
      ]
     },
     "execution_count": 22,
     "metadata": {},
     "output_type": "execute_result"
    }
   ],
   "source": [
    "#Cleaned Data\n",
    "df.info()\n",
    "df.describe()\n",
    "df.head()\n"
   ]
  },
  {
   "cell_type": "code",
   "execution_count": 23,
   "id": "f4ea12f5-35e0-4aaa-8d15-4cf33c0f1342",
   "metadata": {},
   "outputs": [
    {
     "data": {
      "text/html": [
       "<div>\n",
       "<style scoped>\n",
       "    .dataframe tbody tr th:only-of-type {\n",
       "        vertical-align: middle;\n",
       "    }\n",
       "\n",
       "    .dataframe tbody tr th {\n",
       "        vertical-align: top;\n",
       "    }\n",
       "\n",
       "    .dataframe thead th {\n",
       "        text-align: right;\n",
       "    }\n",
       "</style>\n",
       "<table border=\"1\" class=\"dataframe\">\n",
       "  <thead>\n",
       "    <tr style=\"text-align: right;\">\n",
       "      <th></th>\n",
       "      <th>InvoiceNo</th>\n",
       "      <th>StockCode</th>\n",
       "      <th>Description</th>\n",
       "      <th>Quantity</th>\n",
       "      <th>InvoiceDate</th>\n",
       "      <th>UnitPrice</th>\n",
       "      <th>CustomerID</th>\n",
       "      <th>Country</th>\n",
       "      <th>TotalPrice</th>\n",
       "      <th>Year</th>\n",
       "      <th>Month</th>\n",
       "      <th>DayOfWeek</th>\n",
       "    </tr>\n",
       "  </thead>\n",
       "  <tbody>\n",
       "    <tr>\n",
       "      <th>0</th>\n",
       "      <td>536365</td>\n",
       "      <td>85123A</td>\n",
       "      <td>white hanging heart t-light holder</td>\n",
       "      <td>6</td>\n",
       "      <td>2010-12-01 08:26:00</td>\n",
       "      <td>2.55</td>\n",
       "      <td>17850.0</td>\n",
       "      <td>United Kingdom</td>\n",
       "      <td>15.30</td>\n",
       "      <td>2010</td>\n",
       "      <td>12</td>\n",
       "      <td>Wednesday</td>\n",
       "    </tr>\n",
       "    <tr>\n",
       "      <th>1</th>\n",
       "      <td>536365</td>\n",
       "      <td>71053</td>\n",
       "      <td>white metal lantern</td>\n",
       "      <td>6</td>\n",
       "      <td>2010-12-01 08:26:00</td>\n",
       "      <td>3.39</td>\n",
       "      <td>17850.0</td>\n",
       "      <td>United Kingdom</td>\n",
       "      <td>20.34</td>\n",
       "      <td>2010</td>\n",
       "      <td>12</td>\n",
       "      <td>Wednesday</td>\n",
       "    </tr>\n",
       "    <tr>\n",
       "      <th>2</th>\n",
       "      <td>536365</td>\n",
       "      <td>84406B</td>\n",
       "      <td>cream cupid hearts coat hanger</td>\n",
       "      <td>8</td>\n",
       "      <td>2010-12-01 08:26:00</td>\n",
       "      <td>2.75</td>\n",
       "      <td>17850.0</td>\n",
       "      <td>United Kingdom</td>\n",
       "      <td>22.00</td>\n",
       "      <td>2010</td>\n",
       "      <td>12</td>\n",
       "      <td>Wednesday</td>\n",
       "    </tr>\n",
       "    <tr>\n",
       "      <th>3</th>\n",
       "      <td>536365</td>\n",
       "      <td>84029G</td>\n",
       "      <td>knitted union flag hot water bottle</td>\n",
       "      <td>6</td>\n",
       "      <td>2010-12-01 08:26:00</td>\n",
       "      <td>3.39</td>\n",
       "      <td>17850.0</td>\n",
       "      <td>United Kingdom</td>\n",
       "      <td>20.34</td>\n",
       "      <td>2010</td>\n",
       "      <td>12</td>\n",
       "      <td>Wednesday</td>\n",
       "    </tr>\n",
       "    <tr>\n",
       "      <th>4</th>\n",
       "      <td>536365</td>\n",
       "      <td>84029E</td>\n",
       "      <td>red woolly hottie white heart.</td>\n",
       "      <td>6</td>\n",
       "      <td>2010-12-01 08:26:00</td>\n",
       "      <td>3.39</td>\n",
       "      <td>17850.0</td>\n",
       "      <td>United Kingdom</td>\n",
       "      <td>20.34</td>\n",
       "      <td>2010</td>\n",
       "      <td>12</td>\n",
       "      <td>Wednesday</td>\n",
       "    </tr>\n",
       "    <tr>\n",
       "      <th>...</th>\n",
       "      <td>...</td>\n",
       "      <td>...</td>\n",
       "      <td>...</td>\n",
       "      <td>...</td>\n",
       "      <td>...</td>\n",
       "      <td>...</td>\n",
       "      <td>...</td>\n",
       "      <td>...</td>\n",
       "      <td>...</td>\n",
       "      <td>...</td>\n",
       "      <td>...</td>\n",
       "      <td>...</td>\n",
       "    </tr>\n",
       "    <tr>\n",
       "      <th>541904</th>\n",
       "      <td>581587</td>\n",
       "      <td>22613</td>\n",
       "      <td>pack of 20 spaceboy napkins</td>\n",
       "      <td>12</td>\n",
       "      <td>2011-12-09 12:50:00</td>\n",
       "      <td>0.85</td>\n",
       "      <td>12680.0</td>\n",
       "      <td>France</td>\n",
       "      <td>10.20</td>\n",
       "      <td>2011</td>\n",
       "      <td>12</td>\n",
       "      <td>Friday</td>\n",
       "    </tr>\n",
       "    <tr>\n",
       "      <th>541905</th>\n",
       "      <td>581587</td>\n",
       "      <td>22899</td>\n",
       "      <td>children's apron dolly girl</td>\n",
       "      <td>6</td>\n",
       "      <td>2011-12-09 12:50:00</td>\n",
       "      <td>2.10</td>\n",
       "      <td>12680.0</td>\n",
       "      <td>France</td>\n",
       "      <td>12.60</td>\n",
       "      <td>2011</td>\n",
       "      <td>12</td>\n",
       "      <td>Friday</td>\n",
       "    </tr>\n",
       "    <tr>\n",
       "      <th>541906</th>\n",
       "      <td>581587</td>\n",
       "      <td>23254</td>\n",
       "      <td>childrens cutlery dolly girl</td>\n",
       "      <td>4</td>\n",
       "      <td>2011-12-09 12:50:00</td>\n",
       "      <td>4.15</td>\n",
       "      <td>12680.0</td>\n",
       "      <td>France</td>\n",
       "      <td>16.60</td>\n",
       "      <td>2011</td>\n",
       "      <td>12</td>\n",
       "      <td>Friday</td>\n",
       "    </tr>\n",
       "    <tr>\n",
       "      <th>541907</th>\n",
       "      <td>581587</td>\n",
       "      <td>23255</td>\n",
       "      <td>childrens cutlery circus parade</td>\n",
       "      <td>4</td>\n",
       "      <td>2011-12-09 12:50:00</td>\n",
       "      <td>4.15</td>\n",
       "      <td>12680.0</td>\n",
       "      <td>France</td>\n",
       "      <td>16.60</td>\n",
       "      <td>2011</td>\n",
       "      <td>12</td>\n",
       "      <td>Friday</td>\n",
       "    </tr>\n",
       "    <tr>\n",
       "      <th>541908</th>\n",
       "      <td>581587</td>\n",
       "      <td>22138</td>\n",
       "      <td>baking set 9 piece retrospot</td>\n",
       "      <td>3</td>\n",
       "      <td>2011-12-09 12:50:00</td>\n",
       "      <td>4.95</td>\n",
       "      <td>12680.0</td>\n",
       "      <td>France</td>\n",
       "      <td>14.85</td>\n",
       "      <td>2011</td>\n",
       "      <td>12</td>\n",
       "      <td>Friday</td>\n",
       "    </tr>\n",
       "  </tbody>\n",
       "</table>\n",
       "<p>524878 rows × 12 columns</p>\n",
       "</div>"
      ],
      "text/plain": [
       "       InvoiceNo StockCode                          Description  Quantity  \\\n",
       "0         536365    85123A   white hanging heart t-light holder         6   \n",
       "1         536365     71053                  white metal lantern         6   \n",
       "2         536365    84406B       cream cupid hearts coat hanger         8   \n",
       "3         536365    84029G  knitted union flag hot water bottle         6   \n",
       "4         536365    84029E       red woolly hottie white heart.         6   \n",
       "...          ...       ...                                  ...       ...   \n",
       "541904    581587     22613          pack of 20 spaceboy napkins        12   \n",
       "541905    581587     22899          children's apron dolly girl         6   \n",
       "541906    581587     23254         childrens cutlery dolly girl         4   \n",
       "541907    581587     23255      childrens cutlery circus parade         4   \n",
       "541908    581587     22138         baking set 9 piece retrospot         3   \n",
       "\n",
       "               InvoiceDate  UnitPrice CustomerID         Country  TotalPrice  \\\n",
       "0      2010-12-01 08:26:00       2.55    17850.0  United Kingdom       15.30   \n",
       "1      2010-12-01 08:26:00       3.39    17850.0  United Kingdom       20.34   \n",
       "2      2010-12-01 08:26:00       2.75    17850.0  United Kingdom       22.00   \n",
       "3      2010-12-01 08:26:00       3.39    17850.0  United Kingdom       20.34   \n",
       "4      2010-12-01 08:26:00       3.39    17850.0  United Kingdom       20.34   \n",
       "...                    ...        ...        ...             ...         ...   \n",
       "541904 2011-12-09 12:50:00       0.85    12680.0          France       10.20   \n",
       "541905 2011-12-09 12:50:00       2.10    12680.0          France       12.60   \n",
       "541906 2011-12-09 12:50:00       4.15    12680.0          France       16.60   \n",
       "541907 2011-12-09 12:50:00       4.15    12680.0          France       16.60   \n",
       "541908 2011-12-09 12:50:00       4.95    12680.0          France       14.85   \n",
       "\n",
       "        Year  Month  DayOfWeek  \n",
       "0       2010     12  Wednesday  \n",
       "1       2010     12  Wednesday  \n",
       "2       2010     12  Wednesday  \n",
       "3       2010     12  Wednesday  \n",
       "4       2010     12  Wednesday  \n",
       "...      ...    ...        ...  \n",
       "541904  2011     12     Friday  \n",
       "541905  2011     12     Friday  \n",
       "541906  2011     12     Friday  \n",
       "541907  2011     12     Friday  \n",
       "541908  2011     12     Friday  \n",
       "\n",
       "[524878 rows x 12 columns]"
      ]
     },
     "execution_count": 23,
     "metadata": {},
     "output_type": "execute_result"
    }
   ],
   "source": [
    "df\n"
   ]
  },
  {
   "cell_type": "code",
   "execution_count": 24,
   "id": "45ee0422-c2d7-4b77-846d-c3b09f482246",
   "metadata": {},
   "outputs": [
    {
     "name": "stdout",
     "output_type": "stream",
     "text": [
      "DimCustomer: (4339, 2)\n",
      "DimProduct: (3922, 3)\n",
      "DimDate: (18499, 5)\n",
      "FactSales: (524878, 6)\n"
     ]
    }
   ],
   "source": [
    "# Step 1: DimCustomer\n",
    "dim_customer = df[['CustomerID', 'Country']].drop_duplicates(subset='CustomerID', keep='first').reset_index(drop=True)\n",
    "\n",
    "# Step 2: DimProduct\n",
    "# Keep the first occurrence of each StockCode\n",
    "dim_product = (\n",
    "    df[['StockCode', 'Description', 'UnitPrice']]\n",
    "    .drop_duplicates(subset='StockCode', keep='first')\n",
    "    .reset_index(drop=True)\n",
    ")\n",
    "\n",
    "\n",
    "# Step 3: DimDate\n",
    "dim_date = df[['InvoiceDate', 'Year', 'Month', 'DayOfWeek']].drop_duplicates(subset='InvoiceDate', keep='first').reset_index(drop=True)\n",
    "\n",
    "# Optionally create a surrogate key for DimDate\n",
    "dim_date['DateID'] = dim_date.index + 1  # or use pd.factorize if needed\n",
    "dim_date = dim_date[['DateID', 'InvoiceDate', 'Year', 'Month', 'DayOfWeek']]\n",
    "\n",
    "# Step 4: FactSales (Fact Table)\n",
    "# Join to get DateID from DimDate\n",
    "fact_sales = df.merge(dim_date, on='InvoiceDate', how='left')\n",
    "fact_sales = fact_sales[['InvoiceNo', 'StockCode', 'CustomerID', 'Quantity', 'TotalPrice', 'DateID']]\n",
    "\n",
    "# Reset index\n",
    "fact_sales = fact_sales.reset_index(drop=True)\n",
    "\n",
    "# Display shapes as a quick check\n",
    "print(\"DimCustomer:\", dim_customer.shape)\n",
    "print(\"DimProduct:\", dim_product.shape)\n",
    "print(\"DimDate:\", dim_date.shape)\n",
    "print(\"FactSales:\", fact_sales.shape)"
   ]
  },
  {
   "cell_type": "code",
   "execution_count": 25,
   "id": "9d02a9de-762c-4417-a433-7d4c7e9b4046",
   "metadata": {},
   "outputs": [
    {
     "name": "stdout",
     "output_type": "stream",
     "text": [
      "Total duplicate CustomerIDs: 0\n",
      "Total duplicate rows: 0\n",
      "Empty DataFrame\n",
      "Columns: [CustomerID, Country]\n",
      "Index: []\n"
     ]
    }
   ],
   "source": [
    "# Check for duplicate CustomerID values\n",
    "duplicates = dim_customer[dim_customer.duplicated(subset='CustomerID', keep=False)]\n",
    "\n",
    "# Show summary\n",
    "print(f\"Total duplicate CustomerIDs: {duplicates['CustomerID'].nunique()}\")\n",
    "print(f\"Total duplicate rows: {duplicates.shape[0]}\")\n",
    "\n",
    "# Display the duplicate rows\n",
    "print(duplicates.sort_values('CustomerID').head())\n"
   ]
  },
  {
   "cell_type": "code",
   "execution_count": 26,
   "id": "94bf449c-c4db-4efc-a76b-1a75f6cfe9ec",
   "metadata": {},
   "outputs": [
    {
     "data": {
      "text/html": [
       "<div>\n",
       "<style scoped>\n",
       "    .dataframe tbody tr th:only-of-type {\n",
       "        vertical-align: middle;\n",
       "    }\n",
       "\n",
       "    .dataframe tbody tr th {\n",
       "        vertical-align: top;\n",
       "    }\n",
       "\n",
       "    .dataframe thead th {\n",
       "        text-align: right;\n",
       "    }\n",
       "</style>\n",
       "<table border=\"1\" class=\"dataframe\">\n",
       "  <thead>\n",
       "    <tr style=\"text-align: right;\">\n",
       "      <th></th>\n",
       "      <th>StockCode</th>\n",
       "      <th>Description</th>\n",
       "      <th>UnitPrice</th>\n",
       "    </tr>\n",
       "  </thead>\n",
       "  <tbody>\n",
       "    <tr>\n",
       "      <th>0</th>\n",
       "      <td>85123A</td>\n",
       "      <td>white hanging heart t-light holder</td>\n",
       "      <td>2.55</td>\n",
       "    </tr>\n",
       "    <tr>\n",
       "      <th>1</th>\n",
       "      <td>71053</td>\n",
       "      <td>white metal lantern</td>\n",
       "      <td>3.39</td>\n",
       "    </tr>\n",
       "    <tr>\n",
       "      <th>2</th>\n",
       "      <td>84406B</td>\n",
       "      <td>cream cupid hearts coat hanger</td>\n",
       "      <td>2.75</td>\n",
       "    </tr>\n",
       "    <tr>\n",
       "      <th>3</th>\n",
       "      <td>84029G</td>\n",
       "      <td>knitted union flag hot water bottle</td>\n",
       "      <td>3.39</td>\n",
       "    </tr>\n",
       "    <tr>\n",
       "      <th>4</th>\n",
       "      <td>84029E</td>\n",
       "      <td>red woolly hottie white heart.</td>\n",
       "      <td>3.39</td>\n",
       "    </tr>\n",
       "    <tr>\n",
       "      <th>...</th>\n",
       "      <td>...</td>\n",
       "      <td>...</td>\n",
       "      <td>...</td>\n",
       "    </tr>\n",
       "    <tr>\n",
       "      <th>3917</th>\n",
       "      <td>85179a</td>\n",
       "      <td>green bitty light chain</td>\n",
       "      <td>2.46</td>\n",
       "    </tr>\n",
       "    <tr>\n",
       "      <th>3918</th>\n",
       "      <td>23617</td>\n",
       "      <td>set 10 cards swirly xmas tree 17104</td>\n",
       "      <td>2.91</td>\n",
       "    </tr>\n",
       "    <tr>\n",
       "      <th>3919</th>\n",
       "      <td>90214U</td>\n",
       "      <td>letter \"u\" bling key ring</td>\n",
       "      <td>0.29</td>\n",
       "    </tr>\n",
       "    <tr>\n",
       "      <th>3920</th>\n",
       "      <td>47591b</td>\n",
       "      <td>scotties childrens apron</td>\n",
       "      <td>4.13</td>\n",
       "    </tr>\n",
       "    <tr>\n",
       "      <th>3921</th>\n",
       "      <td>23843</td>\n",
       "      <td>paper craft , little birdie</td>\n",
       "      <td>2.08</td>\n",
       "    </tr>\n",
       "  </tbody>\n",
       "</table>\n",
       "<p>3922 rows × 3 columns</p>\n",
       "</div>"
      ],
      "text/plain": [
       "     StockCode                          Description  UnitPrice\n",
       "0       85123A   white hanging heart t-light holder       2.55\n",
       "1        71053                  white metal lantern       3.39\n",
       "2       84406B       cream cupid hearts coat hanger       2.75\n",
       "3       84029G  knitted union flag hot water bottle       3.39\n",
       "4       84029E       red woolly hottie white heart.       3.39\n",
       "...        ...                                  ...        ...\n",
       "3917    85179a              green bitty light chain       2.46\n",
       "3918     23617  set 10 cards swirly xmas tree 17104       2.91\n",
       "3919    90214U            letter \"u\" bling key ring       0.29\n",
       "3920    47591b             scotties childrens apron       4.13\n",
       "3921     23843          paper craft , little birdie       2.08\n",
       "\n",
       "[3922 rows x 3 columns]"
      ]
     },
     "execution_count": 26,
     "metadata": {},
     "output_type": "execute_result"
    }
   ],
   "source": [
    "dim_product"
   ]
  },
  {
   "cell_type": "code",
   "execution_count": 27,
   "id": "29a1f7fa-f1ab-477f-bc3f-003d74f8dab0",
   "metadata": {},
   "outputs": [],
   "source": [
    "df.to_excel(\"cleaned_data_uk_excel.xlsx\", index=False)"
   ]
  },
  {
   "cell_type": "code",
   "execution_count": 28,
   "id": "1ebd6327-b634-4cd6-8abe-9dd31df62b34",
   "metadata": {},
   "outputs": [],
   "source": [
    "import pandas as pd\n",
    "\n",
    "df = pd.read_csv(\"cleaned_data_uk.csv\", dtype={\"InvoiceNo\": str}, low_memory=False)\n",
    "df[\"InvoiceDate\"] = pd.to_datetime(df[\"InvoiceDate\"])  # Convert InvoiceDate column\n"
   ]
  },
  {
   "cell_type": "code",
   "execution_count": 29,
   "id": "8e492f55-a53d-4b4d-a759-4c8bc4858cb4",
   "metadata": {},
   "outputs": [
    {
     "name": "stdout",
     "output_type": "stream",
     "text": [
      "Data uploaded successfully!\n"
     ]
    }
   ],
   "source": [
    "import pymysql\n",
    "import pandas as pd\n",
    "\n",
    "# Load the CSV file\n",
    "df = pd.read_csv(\"cleaned_data_uk.csv\", dtype={\"InvoiceNo\": str}, low_memory=False)\n",
    "df[\"InvoiceDate\"] = pd.to_datetime(df[\"InvoiceDate\"])\n",
    "\n",
    "# Connect to MySQL\n",
    "conn = pymysql.connect(\n",
    "    host=\"localhost\",\n",
    "    user=\"root\",\n",
    "    password=\"pass\",  # Your MySQL password\n",
    "    database=\"verodat\"\n",
    ")\n",
    "cursor = conn.cursor()\n",
    "\n",
    "# Insert data into MySQL table\n",
    "for _, row in df.iterrows():\n",
    "    sql = \"\"\"\n",
    "    INSERT INTO ecommerce_sales (InvoiceNo, StockCode, Description, Quantity, InvoiceDate, UnitPrice, CustomerID, Country, TotalPrice, Year, Month, DayOfWeek)\n",
    "    VALUES (%s, %s, %s, %s, %s, %s, %s, %s, %s, %s, %s, %s)\n",
    "    \"\"\"\n",
    "    values = (\n",
    "        row[\"InvoiceNo\"], row[\"StockCode\"], row[\"Description\"], row[\"Quantity\"], row[\"InvoiceDate\"], \n",
    "        row[\"UnitPrice\"], row[\"CustomerID\"], row[\"Country\"], row[\"TotalPrice\"], row[\"Year\"], row[\"Month\"], row[\"DayOfWeek\"]\n",
    "    )\n",
    "    cursor.execute(sql, values)\n",
    "\n",
    "# Commit and close connection\n",
    "conn.commit()\n",
    "cursor.close()\n",
    "conn.close()\n",
    "\n",
    "print(\"Data uploaded successfully!\")\n"
   ]
  },
  {
   "cell_type": "code",
   "execution_count": 30,
   "id": "ec1e54a0-b130-46f8-9ed2-73d41aa53d77",
   "metadata": {},
   "outputs": [
    {
     "name": "stderr",
     "output_type": "stream",
     "text": [
      "C:\\Users\\Venkat Naveen\\AppData\\Local\\Temp\\ipykernel_25416\\120078642.py:4: DtypeWarning: Columns (0) have mixed types. Specify dtype option on import or set low_memory=False.\n",
      "  df = pd.read_csv(\"fact_sales.csv\")\n"
     ]
    }
   ],
   "source": [
    "import pandas as pd\n",
    "\n",
    "# Load the dataset\n",
    "df = pd.read_csv(\"fact_sales.csv\")"
   ]
  },
  {
   "cell_type": "code",
   "execution_count": 31,
   "id": "2d82ac3c-42e3-44b2-b895-785a437ac287",
   "metadata": {},
   "outputs": [
    {
     "data": {
      "text/plain": [
       "(524878, 6)"
      ]
     },
     "execution_count": 31,
     "metadata": {},
     "output_type": "execute_result"
    }
   ],
   "source": [
    "df.shape"
   ]
  },
  {
   "cell_type": "code",
   "execution_count": 32,
   "id": "79c84b21-9d17-4f95-87df-f337ab0a9910",
   "metadata": {},
   "outputs": [
    {
     "name": "stdout",
     "output_type": "stream",
     "text": [
      "Original shape: (524878, 6)\n"
     ]
    }
   ],
   "source": [
    "# Show shape before deduplication\n",
    "print(f\"Original shape: {df.shape}\")"
   ]
  },
  {
   "cell_type": "code",
   "execution_count": 33,
   "id": "0da58c54-225d-4bcb-b193-7cf95fa1fe2a",
   "metadata": {},
   "outputs": [
    {
     "name": "stdout",
     "output_type": "stream",
     "text": [
      "After removing exact duplicates: (524876, 6)\n"
     ]
    }
   ],
   "source": [
    "# Drop exact duplicate rows (all columns match)\n",
    "df_cleaned = df.drop_duplicates().reset_index(drop=True)\n",
    "\n",
    "# Show shape after deduplication\n",
    "print(f\"After removing exact duplicates: {df_cleaned.shape}\")"
   ]
  },
  {
   "cell_type": "code",
   "execution_count": 34,
   "id": "6ae1bb37-6e0e-4ff1-9c6c-21ea13c8fffe",
   "metadata": {},
   "outputs": [],
   "source": [
    "# Step 1: Remove rows where CustomerID is 'Guest' since it is a primary key\n",
    "df = df[df['CustomerID'] != 'Guest']"
   ]
  },
  {
   "cell_type": "code",
   "execution_count": 35,
   "id": "ed54b31f-2ba0-4d39-b0fa-a5df229b5be5",
   "metadata": {},
   "outputs": [],
   "source": [
    "# Step 2: Convert CustomerID to integer (after removing 'Guest')\n",
    "df['CustomerID'] = df['CustomerID'].astype(float).astype(int)\n",
    "\n",
    "# Optional: Reset index\n",
    "df = df.reset_index(drop=True)"
   ]
  },
  {
   "cell_type": "code",
   "execution_count": 36,
   "id": "d7fe2c4f-d7f2-4bb1-a34b-6481f120d4fc",
   "metadata": {},
   "outputs": [
    {
     "data": {
      "text/html": [
       "<div>\n",
       "<style scoped>\n",
       "    .dataframe tbody tr th:only-of-type {\n",
       "        vertical-align: middle;\n",
       "    }\n",
       "\n",
       "    .dataframe tbody tr th {\n",
       "        vertical-align: top;\n",
       "    }\n",
       "\n",
       "    .dataframe thead th {\n",
       "        text-align: right;\n",
       "    }\n",
       "</style>\n",
       "<table border=\"1\" class=\"dataframe\">\n",
       "  <thead>\n",
       "    <tr style=\"text-align: right;\">\n",
       "      <th></th>\n",
       "      <th>InvoiceNo</th>\n",
       "      <th>StockCode</th>\n",
       "      <th>CustomerID</th>\n",
       "      <th>Quantity</th>\n",
       "      <th>TotalPrice</th>\n",
       "      <th>DateID</th>\n",
       "    </tr>\n",
       "  </thead>\n",
       "  <tbody>\n",
       "    <tr>\n",
       "      <th>0</th>\n",
       "      <td>536365</td>\n",
       "      <td>85123A</td>\n",
       "      <td>17850</td>\n",
       "      <td>6</td>\n",
       "      <td>15.30</td>\n",
       "      <td>1</td>\n",
       "    </tr>\n",
       "    <tr>\n",
       "      <th>1</th>\n",
       "      <td>536365</td>\n",
       "      <td>71053</td>\n",
       "      <td>17850</td>\n",
       "      <td>6</td>\n",
       "      <td>20.34</td>\n",
       "      <td>1</td>\n",
       "    </tr>\n",
       "    <tr>\n",
       "      <th>2</th>\n",
       "      <td>536365</td>\n",
       "      <td>84406B</td>\n",
       "      <td>17850</td>\n",
       "      <td>8</td>\n",
       "      <td>22.00</td>\n",
       "      <td>1</td>\n",
       "    </tr>\n",
       "    <tr>\n",
       "      <th>3</th>\n",
       "      <td>536365</td>\n",
       "      <td>84029G</td>\n",
       "      <td>17850</td>\n",
       "      <td>6</td>\n",
       "      <td>20.34</td>\n",
       "      <td>1</td>\n",
       "    </tr>\n",
       "    <tr>\n",
       "      <th>4</th>\n",
       "      <td>536365</td>\n",
       "      <td>84029E</td>\n",
       "      <td>17850</td>\n",
       "      <td>6</td>\n",
       "      <td>20.34</td>\n",
       "      <td>1</td>\n",
       "    </tr>\n",
       "    <tr>\n",
       "      <th>...</th>\n",
       "      <td>...</td>\n",
       "      <td>...</td>\n",
       "      <td>...</td>\n",
       "      <td>...</td>\n",
       "      <td>...</td>\n",
       "      <td>...</td>\n",
       "    </tr>\n",
       "    <tr>\n",
       "      <th>392687</th>\n",
       "      <td>581587</td>\n",
       "      <td>22613</td>\n",
       "      <td>12680</td>\n",
       "      <td>12</td>\n",
       "      <td>10.20</td>\n",
       "      <td>18499</td>\n",
       "    </tr>\n",
       "    <tr>\n",
       "      <th>392688</th>\n",
       "      <td>581587</td>\n",
       "      <td>22899</td>\n",
       "      <td>12680</td>\n",
       "      <td>6</td>\n",
       "      <td>12.60</td>\n",
       "      <td>18499</td>\n",
       "    </tr>\n",
       "    <tr>\n",
       "      <th>392689</th>\n",
       "      <td>581587</td>\n",
       "      <td>23254</td>\n",
       "      <td>12680</td>\n",
       "      <td>4</td>\n",
       "      <td>16.60</td>\n",
       "      <td>18499</td>\n",
       "    </tr>\n",
       "    <tr>\n",
       "      <th>392690</th>\n",
       "      <td>581587</td>\n",
       "      <td>23255</td>\n",
       "      <td>12680</td>\n",
       "      <td>4</td>\n",
       "      <td>16.60</td>\n",
       "      <td>18499</td>\n",
       "    </tr>\n",
       "    <tr>\n",
       "      <th>392691</th>\n",
       "      <td>581587</td>\n",
       "      <td>22138</td>\n",
       "      <td>12680</td>\n",
       "      <td>3</td>\n",
       "      <td>14.85</td>\n",
       "      <td>18499</td>\n",
       "    </tr>\n",
       "  </tbody>\n",
       "</table>\n",
       "<p>392692 rows × 6 columns</p>\n",
       "</div>"
      ],
      "text/plain": [
       "       InvoiceNo StockCode  CustomerID  Quantity  TotalPrice  DateID\n",
       "0         536365    85123A       17850         6       15.30       1\n",
       "1         536365     71053       17850         6       20.34       1\n",
       "2         536365    84406B       17850         8       22.00       1\n",
       "3         536365    84029G       17850         6       20.34       1\n",
       "4         536365    84029E       17850         6       20.34       1\n",
       "...          ...       ...         ...       ...         ...     ...\n",
       "392687    581587     22613       12680        12       10.20   18499\n",
       "392688    581587     22899       12680         6       12.60   18499\n",
       "392689    581587     23254       12680         4       16.60   18499\n",
       "392690    581587     23255       12680         4       16.60   18499\n",
       "392691    581587     22138       12680         3       14.85   18499\n",
       "\n",
       "[392692 rows x 6 columns]"
      ]
     },
     "execution_count": 36,
     "metadata": {},
     "output_type": "execute_result"
    }
   ],
   "source": [
    "df"
   ]
  },
  {
   "cell_type": "code",
   "execution_count": 37,
   "id": "08a71e40-90a6-4b9e-a9fe-d65d2816b416",
   "metadata": {},
   "outputs": [],
   "source": [
    "df.to_csv(\"C:/Users/Venkat Naveen/Desktop/verodat uk sales/fact_sales.csv\", index=False)"
   ]
  },
  {
   "cell_type": "code",
   "execution_count": 38,
   "id": "de089b79-9824-4ee2-80e2-62c200f2b56c",
   "metadata": {},
   "outputs": [
    {
     "name": "stdout",
     "output_type": "stream",
     "text": [
      "0\n",
      "Unmatched DateIDs: 0\n"
     ]
    }
   ],
   "source": [
    "# Check for nulls\n",
    "print(dim_date['DateID'].isnull().sum())\n",
    "\n",
    "# Check for unmatched values\n",
    "unmatched = dim_date[~dim_date['DateID'].isin(dim_date['DateID'])]\n",
    "print(f\"Unmatched DateIDs: {unmatched['DateID'].nunique()}\")\n"
   ]
  },
  {
   "cell_type": "code",
   "execution_count": 39,
   "id": "4b11caa7-650e-4a6f-9e2e-bd25ab7aff0a",
   "metadata": {},
   "outputs": [],
   "source": [
    "dim_customer.to_csv(\"C:/Users/Venkat Naveen/Desktop/verodat uk sales/dim_customer.csv\", index=False)\n",
    "dim_product.to_csv(\"C:/Users/Venkat Naveen/Desktop/verodat uk sales/dim_product.csv\", index=False)\n",
    "dim_date.to_csv(\"C:/Users/Venkat Naveen/Desktop/verodat uk sales/dim_date.csv\", index=False)\n",
    "fact_sales.to_csv(\"C:/Users/Venkat Naveen/Desktop/verodat uk sales/fact_sales.csv\", index=False)"
   ]
  },
  {
   "cell_type": "code",
   "execution_count": null,
   "id": "109ebc5c-5fe0-4274-8b96-329401da7397",
   "metadata": {},
   "outputs": [],
   "source": []
  }
 ],
 "metadata": {
  "kernelspec": {
   "display_name": "Python 3 (ipykernel)",
   "language": "python",
   "name": "python3"
  },
  "language_info": {
   "codemirror_mode": {
    "name": "ipython",
    "version": 3
   },
   "file_extension": ".py",
   "mimetype": "text/x-python",
   "name": "python",
   "nbconvert_exporter": "python",
   "pygments_lexer": "ipython3",
   "version": "3.11.9"
  }
 },
 "nbformat": 4,
 "nbformat_minor": 5
}
